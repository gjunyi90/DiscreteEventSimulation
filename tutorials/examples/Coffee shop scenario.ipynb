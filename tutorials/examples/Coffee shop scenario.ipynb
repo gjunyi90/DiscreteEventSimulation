{
 "cells": [
  {
   "cell_type": "code",
   "execution_count": 56,
   "metadata": {},
   "outputs": [
    {
     "name": "stdout",
     "output_type": "stream",
     "text": [
      "Customer 0 arrived at time 2.0\n",
      "Customer 1 arrived at time 4.0\n",
      "Customer 2 arrived at time 7.0\n",
      "Customer 3 arrived at time 9.0\n",
      "Customer 4 arrived at time 13.0\n",
      "Customer 5 arrived at time 19.0\n",
      "> > > Customer 0 finished paying by Cash in 26.0 seconds\n",
      "> > > Customer 1 finished paying by Cash in 28.0 seconds\n",
      "> > > Customer 2 finished paying by Cash in 25.0 seconds\n",
      "> > > Customer 4 finished paying by Cash in 23.0 seconds\n",
      "> > > Customer 3 finished paying by Cash in 28.0 seconds\n",
      "> > > Customer 5 finished paying by Cash in 29.0 seconds\n",
      ">> >> >> Customer 0 served Mocha in 68.0 seconds\n",
      ">> >> >> Customer 1 served Mocha in 110.0 seconds\n",
      ">> >> >> Customer 2 served Espresso in 134.0 seconds\n",
      ">> >> >> Customer 4 served Espresso in 161.0 seconds\n",
      ">> >> >> Customer 3 served Regular Coffee in 176.0 seconds\n",
      ">> >> >> Customer 5 served Mocha in 206.0 seconds\n",
      "\n",
      "\n",
      "WITH 6 CASHIERS and 1 BARISTAS and 6 SERIALLY ARRIVING CUSTOMERS...\n",
      "Average wait time in payment queue: 0.0 seconds.\n",
      "Average time until making the payment: 26.5 seconds.\n",
      "Average wait time in order queue: 83.2 seconds.\n",
      "Average time until order is serviced: 142.5 seconds.\n"
     ]
    }
   ],
   "source": [
    "import simpy\n",
    "import random\n",
    "import numpy as np\n",
    "\n",
    "NO_OF_CUSTOMERS = 6\n",
    "NO_OF_CASHIERS = 6\n",
    "NO_OF_BARISTAS = 1\n",
    "\n",
    "\n",
    "menu = {1:[\"Regular Coffee\",10,15], 2:[\"Latte\",30,45],\n",
    "        3:[\"Mocha\",30,45], 4:[\"Cold Brew\",10,20], 5:[\"Frappe\",50,70],\n",
    "        6:[\"Espresso\",20,35]}\n",
    "# payment_options = {1:[\"Cash\",15,30], 2:[\"Card\",10,20]}\n",
    "payment_options = {1:[\"Cash\",15,30], 2:[\"Cash\",15,30]}\n",
    "\n",
    "\n",
    "payment_wait_time = []  #list to hold the time until a cashier is available\n",
    "payment_time = []       #list to hold the time taken to make payments\n",
    "order_wait_time = []    #list to hold te time until a barista is available\n",
    "order_time = []         #list to hold the time taken to prepare the order\n",
    "\n",
    "\n",
    "def generate_customer(env, cashier, barista):\n",
    "    for i in range(NO_OF_CUSTOMERS):\n",
    "        yield env.timeout(random.randint(1,6))\n",
    "        env.process(customer(env, i, cashier, barista))\n",
    "\n",
    "\n",
    "def customer(env, name, cashier, barista):\n",
    "    print(\"Customer %s arrived at time %.1f\" % (name, env.now))\n",
    "    with cashier.request() as req:\n",
    "        start_cq = env.now\n",
    "        yield req\n",
    "        payment_wait_time.append(env.now - start_cq)\n",
    "        menu_item = random.randint(1, 6)\n",
    "        payment_type = random.randint(1, 2)\n",
    "        time_to_order = random.randint(payment_options[payment_type][1], payment_options[payment_type][2])\n",
    "        payment_name = payment_options[payment_type][0]\n",
    "        yield env.timeout(time_to_order)\n",
    "        print(\"> > > Customer %s finished paying by %s in %.1f seconds\" % (name, payment_name, env.now - start_cq))\n",
    "        payment_time.append(env.now - start_cq)\n",
    "\n",
    "    with barista.request() as req:\n",
    "        start_bq = env.now\n",
    "        yield req\n",
    "        order_wait_time.append(env.now - start_bq)\n",
    "        time_to_prepare = random.randint(menu[menu_item][1], menu[menu_item][2])\n",
    "        item_name = menu[menu_item][0]\n",
    "        yield env.timeout(time_to_prepare)\n",
    "        print(\">> >> >> Customer %s served %s in %.1f seconds\" % (name, item_name, env.now - start_cq))\n",
    "        order_time.append(env.now - start_cq)\n",
    "        \n",
    "env = simpy.Environment()\n",
    "cashier = simpy.Resource(env, NO_OF_CASHIERS)\n",
    "barista = simpy.Resource(env, NO_OF_BARISTAS)\n",
    "\n",
    "env.process(generate_customer(env, cashier, barista))\n",
    "env.run(until=400)\n",
    "\n",
    "print(\"\\n\\nWITH %s CASHIERS and %s BARISTAS and %s SERIALLY ARRIVING CUSTOMERS...\" % (NO_OF_CASHIERS, NO_OF_BARISTAS, NO_OF_CUSTOMERS))\n",
    "print(\"Average wait time in payment queue: %.1f seconds.\" % (np.mean(payment_wait_time)))\n",
    "print(\"Average time until making the payment: %.1f seconds.\" % (np.mean(payment_time)))\n",
    "print(\"Average wait time in order queue: %.1f seconds.\" % (np.mean(order_wait_time)))\n",
    "print(\"Average time until order is serviced: %.1f seconds.\" % (np.mean(order_time)))"
   ]
  },
  {
   "cell_type": "code",
   "execution_count": 12,
   "metadata": {},
   "outputs": [
    {
     "data": {
      "text/plain": [
       "[0, 0, 0, 0]"
      ]
     },
     "execution_count": 12,
     "metadata": {},
     "output_type": "execute_result"
    }
   ],
   "source": [
    "order_wait_time"
   ]
  },
  {
   "cell_type": "code",
   "execution_count": null,
   "metadata": {},
   "outputs": [],
   "source": []
  }
 ],
 "metadata": {
  "kernelspec": {
   "display_name": "Python 3",
   "language": "python",
   "name": "python3"
  },
  "language_info": {
   "codemirror_mode": {
    "name": "ipython",
    "version": 3
   },
   "file_extension": ".py",
   "mimetype": "text/x-python",
   "name": "python",
   "nbconvert_exporter": "python",
   "pygments_lexer": "ipython3",
   "version": "3.6.6"
  }
 },
 "nbformat": 4,
 "nbformat_minor": 2
}
